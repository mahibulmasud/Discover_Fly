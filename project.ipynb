{
  "nbformat": 4,
  "nbformat_minor": 0,
  "metadata": {
    "colab": {
      "name": "project.ipynb",
      "provenance": [],
      "include_colab_link": true
    },
    "kernelspec": {
      "name": "python3",
      "display_name": "Python 3"
    },
    "language_info": {
      "name": "python"
    }
  },
  "cells": [
    {
      "cell_type": "markdown",
      "metadata": {
        "id": "view-in-github",
        "colab_type": "text"
      },
      "source": [
        "<a href=\"https://colab.research.google.com/github/mahibulmasud/Discover_Fly/blob/main/project.ipynb\" target=\"_parent\"><img src=\"https://colab.research.google.com/assets/colab-badge.svg\" alt=\"Open In Colab\"/></a>"
      ]
    },
    {
      "cell_type": "markdown",
      "metadata": {
        "id": "QU_rkVIlvtoL"
      },
      "source": [
        "##**Mount Drive and Read the Dataset**"
      ]
    },
    {
      "cell_type": "code",
      "metadata": {
        "id": "M5AhTdaErY4M",
        "colab": {
          "base_uri": "https://localhost:8080/"
        },
        "outputId": "aa6c2b3b-984c-43c8-9ad7-50511871a738"
      },
      "source": [
        "from google.colab import drive\n",
        "drive.mount('/content/gdrive')"
      ],
      "execution_count": null,
      "outputs": [
        {
          "output_type": "stream",
          "text": [
            "Mounted at /content/gdrive\n"
          ],
          "name": "stdout"
        }
      ]
    },
    {
      "cell_type": "code",
      "metadata": {
        "id": "a530E6tmrfgL"
      },
      "source": [
        "import pandas as pd"
      ],
      "execution_count": null,
      "outputs": []
    },
    {
      "cell_type": "code",
      "metadata": {
        "id": "nEhFKcbPrkvL"
      },
      "source": [
        "classes = pd.read_csv('gdrive/My Drive/Colab Notebooks/class.csv')"
      ],
      "execution_count": null,
      "outputs": []
    },
    {
      "cell_type": "markdown",
      "metadata": {
        "id": "Ejm5OgkAraA4"
      },
      "source": [
        "# **Show Dataset**"
      ]
    },
    {
      "cell_type": "code",
      "metadata": {
        "colab": {
          "base_uri": "https://localhost:8080/",
          "height": 272
        },
        "id": "UrC-35FArsBk",
        "outputId": "cada5eca-271b-46be-9a4c-6b0bdc77cdb6"
      },
      "source": [
        "classes.head()"
      ],
      "execution_count": null,
      "outputs": [
        {
          "output_type": "execute_result",
          "data": {
            "text/html": [
              "<div>\n",
              "<style scoped>\n",
              "    .dataframe tbody tr th:only-of-type {\n",
              "        vertical-align: middle;\n",
              "    }\n",
              "\n",
              "    .dataframe tbody tr th {\n",
              "        vertical-align: top;\n",
              "    }\n",
              "\n",
              "    .dataframe thead th {\n",
              "        text-align: right;\n",
              "    }\n",
              "</style>\n",
              "<table border=\"1\" class=\"dataframe\">\n",
              "  <thead>\n",
              "    <tr style=\"text-align: right;\">\n",
              "      <th></th>\n",
              "      <th>Name</th>\n",
              "      <th>Roll</th>\n",
              "      <th>District</th>\n",
              "      <th>Upazila_Thana</th>\n",
              "      <th>Required Device Availability</th>\n",
              "      <th>Broadband Connection</th>\n",
              "      <th>Buy mobile data ability</th>\n",
              "      <th>Cellular Quality</th>\n",
              "      <th>Net Speed</th>\n",
              "      <th>Present</th>\n",
              "    </tr>\n",
              "  </thead>\n",
              "  <tbody>\n",
              "    <tr>\n",
              "      <th>0</th>\n",
              "      <td>Pantho Haque</td>\n",
              "      <td>1907075</td>\n",
              "      <td>Gazipur</td>\n",
              "      <td>Gazipur sadar</td>\n",
              "      <td>No</td>\n",
              "      <td>No</td>\n",
              "      <td>No</td>\n",
              "      <td>2G</td>\n",
              "      <td>&lt; 1 Mbps</td>\n",
              "      <td>0</td>\n",
              "    </tr>\n",
              "    <tr>\n",
              "      <th>1</th>\n",
              "      <td>Towfiq  Ul Iqbal Tomal</td>\n",
              "      <td>1907098</td>\n",
              "      <td>Dhaka</td>\n",
              "      <td>Hazari Bagh</td>\n",
              "      <td>Yes</td>\n",
              "      <td>Yes</td>\n",
              "      <td>No</td>\n",
              "      <td>3G</td>\n",
              "      <td>&lt; 1 Mbps</td>\n",
              "      <td>0</td>\n",
              "    </tr>\n",
              "    <tr>\n",
              "      <th>2</th>\n",
              "      <td>Nushrat Tarmin Meem</td>\n",
              "      <td>1907083</td>\n",
              "      <td>Dhaka</td>\n",
              "      <td>Mirpur</td>\n",
              "      <td>Yes</td>\n",
              "      <td>Yes</td>\n",
              "      <td>Yes</td>\n",
              "      <td>4G</td>\n",
              "      <td>1 - 5 Mbps</td>\n",
              "      <td>1</td>\n",
              "    </tr>\n",
              "    <tr>\n",
              "      <th>3</th>\n",
              "      <td>Anisa Walida</td>\n",
              "      <td>1907087</td>\n",
              "      <td>Dhaka</td>\n",
              "      <td>Sher e Bangla Nagar</td>\n",
              "      <td>Yes</td>\n",
              "      <td>No</td>\n",
              "      <td>No</td>\n",
              "      <td>2G</td>\n",
              "      <td>1 - 5 Mbps</td>\n",
              "      <td>1</td>\n",
              "    </tr>\n",
              "    <tr>\n",
              "      <th>4</th>\n",
              "      <td>MD. SHAHRIYAR MUQSET</td>\n",
              "      <td>1907081</td>\n",
              "      <td>Chandpur</td>\n",
              "      <td>Faridgonj</td>\n",
              "      <td>No</td>\n",
              "      <td>No</td>\n",
              "      <td>No</td>\n",
              "      <td>3G</td>\n",
              "      <td>&lt; 1 Mbps</td>\n",
              "      <td>0</td>\n",
              "    </tr>\n",
              "  </tbody>\n",
              "</table>\n",
              "</div>"
            ],
            "text/plain": [
              "                      Name     Roll  ...   Net Speed Present\n",
              "0             Pantho Haque  1907075  ...    < 1 Mbps       0\n",
              "1  Towfiq  Ul Iqbal Tomal   1907098  ...    < 1 Mbps       0\n",
              "2      Nushrat Tarmin Meem  1907083  ...  1 - 5 Mbps       1\n",
              "3            Anisa Walida   1907087  ...  1 - 5 Mbps       1\n",
              "4     MD. SHAHRIYAR MUQSET  1907081  ...    < 1 Mbps       0\n",
              "\n",
              "[5 rows x 10 columns]"
            ]
          },
          "metadata": {
            "tags": []
          },
          "execution_count": 6
        }
      ]
    },
    {
      "cell_type": "code",
      "metadata": {
        "colab": {
          "base_uri": "https://localhost:8080/",
          "height": 163
        },
        "id": "FAWyOz7lw1tC",
        "outputId": "9ba2ff53-7287-4fdc-f6ed-47633a9403d8"
      },
      "source": [
        "classes.head(20)"
      ],
      "execution_count": null,
      "outputs": [
        {
          "output_type": "error",
          "ename": "NameError",
          "evalue": "ignored",
          "traceback": [
            "\u001b[0;31m---------------------------------------------------------------------------\u001b[0m",
            "\u001b[0;31mNameError\u001b[0m                                 Traceback (most recent call last)",
            "\u001b[0;32m<ipython-input-1-81b32dcc7990>\u001b[0m in \u001b[0;36m<module>\u001b[0;34m()\u001b[0m\n\u001b[0;32m----> 1\u001b[0;31m \u001b[0mclasses\u001b[0m\u001b[0;34m.\u001b[0m\u001b[0mhead\u001b[0m\u001b[0;34m(\u001b[0m\u001b[0;36m20\u001b[0m\u001b[0;34m)\u001b[0m\u001b[0;34m\u001b[0m\u001b[0;34m\u001b[0m\u001b[0m\n\u001b[0m",
            "\u001b[0;31mNameError\u001b[0m: name 'classes' is not defined"
          ]
        }
      ]
    },
    {
      "cell_type": "markdown",
      "metadata": {
        "id": "uBCM0FvR2jt3"
      },
      "source": [
        "# **Show shape**"
      ]
    },
    {
      "cell_type": "code",
      "metadata": {
        "colab": {
          "base_uri": "https://localhost:8080/"
        },
        "id": "pnU6tOlpwdfy",
        "outputId": "6dba2f8f-13b8-45ec-87c3-ef5e2c9cd054"
      },
      "source": [
        "classes.shape"
      ],
      "execution_count": null,
      "outputs": [
        {
          "output_type": "execute_result",
          "data": {
            "text/plain": [
              "(19, 10)"
            ]
          },
          "metadata": {
            "tags": []
          },
          "execution_count": 8
        }
      ]
    },
    {
      "cell_type": "markdown",
      "metadata": {
        "id": "52GwlBvr2fsX"
      },
      "source": [
        "# **Show All Information with missing Value**"
      ]
    },
    {
      "cell_type": "code",
      "metadata": {
        "colab": {
          "base_uri": "https://localhost:8080/"
        },
        "id": "91hN1_fVwlOL",
        "outputId": "5cd7583a-4e29-44da-866c-63f218bc9810"
      },
      "source": [
        "classes.info()"
      ],
      "execution_count": null,
      "outputs": [
        {
          "output_type": "stream",
          "text": [
            "<class 'pandas.core.frame.DataFrame'>\n",
            "RangeIndex: 19 entries, 0 to 18\n",
            "Data columns (total 10 columns):\n",
            " #   Column                        Non-Null Count  Dtype \n",
            "---  ------                        --------------  ----- \n",
            " 0   Name                          19 non-null     object\n",
            " 1   Roll                          19 non-null     int64 \n",
            " 2   District                      19 non-null     object\n",
            " 3   Upazila_Thana                 19 non-null     object\n",
            " 4   Required Device Availability  19 non-null     object\n",
            " 5   Broadband Connection          19 non-null     object\n",
            " 6   Buy mobile data ability       19 non-null     object\n",
            " 7   Cellular Quality              19 non-null     object\n",
            " 8   Net Speed                     19 non-null     object\n",
            " 9   Present                       19 non-null     int64 \n",
            "dtypes: int64(2), object(8)\n",
            "memory usage: 1.6+ KB\n"
          ],
          "name": "stdout"
        }
      ]
    },
    {
      "cell_type": "markdown",
      "metadata": {
        "id": "fblN2qMG2yev"
      },
      "source": [
        "# **Show Null Value**"
      ]
    },
    {
      "cell_type": "code",
      "metadata": {
        "colab": {
          "base_uri": "https://localhost:8080/"
        },
        "id": "y71PN4dgw8h6",
        "outputId": "c4b8772b-a8fe-4959-927e-dfa8acef96bd"
      },
      "source": [
        "classes.isnull().sum()"
      ],
      "execution_count": null,
      "outputs": [
        {
          "output_type": "execute_result",
          "data": {
            "text/plain": [
              "Name                            0\n",
              "Roll                            0\n",
              "District                        0\n",
              "Upazila_Thana                   0\n",
              "Required Device Availability    0\n",
              "Broadband Connection            0\n",
              "Buy mobile data ability         0\n",
              "Cellular Quality                0\n",
              "Net Speed                       0\n",
              "Present                         0\n",
              "dtype: int64"
            ]
          },
          "metadata": {
            "tags": []
          },
          "execution_count": 10
        }
      ]
    },
    {
      "cell_type": "markdown",
      "metadata": {
        "id": "st2pybbc3Crn"
      },
      "source": [
        "# **import library for data visualization**"
      ]
    },
    {
      "cell_type": "code",
      "metadata": {
        "id": "23jzJsSoxBaK"
      },
      "source": [
        "import matplotlib.pyplot as plt\n",
        "%matplotlib inline\n",
        "import seaborn as sns\n",
        "sns.set()"
      ],
      "execution_count": null,
      "outputs": []
    },
    {
      "cell_type": "markdown",
      "metadata": {
        "id": "x-_6wscG3LJg"
      },
      "source": [
        "# **Create a function to see the graph**"
      ]
    },
    {
      "cell_type": "code",
      "metadata": {
        "id": "Wb2r1OjgxP4j"
      },
      "source": [
        "def bar_chart(feature):\n",
        "    present = classes[classes['Present']==1][feature].value_counts()\n",
        "    absent = classes[classes['Present']==0][feature].value_counts()\n",
        "    df = pd.DataFrame([present,absent])\n",
        "    df.index = ['Present','Absent']\n",
        "    df.plot(kind='bar',stacked=True, figsize=(10,5))"
      ],
      "execution_count": null,
      "outputs": []
    },
    {
      "cell_type": "code",
      "metadata": {
        "colab": {
          "base_uri": "https://localhost:8080/",
          "height": 272
        },
        "id": "TGIqtGtN4_HY",
        "outputId": "62b04c88-aeab-4c1d-fc1a-ad126991b441"
      },
      "source": [
        "classes.head()"
      ],
      "execution_count": null,
      "outputs": [
        {
          "output_type": "execute_result",
          "data": {
            "text/html": [
              "<div>\n",
              "<style scoped>\n",
              "    .dataframe tbody tr th:only-of-type {\n",
              "        vertical-align: middle;\n",
              "    }\n",
              "\n",
              "    .dataframe tbody tr th {\n",
              "        vertical-align: top;\n",
              "    }\n",
              "\n",
              "    .dataframe thead th {\n",
              "        text-align: right;\n",
              "    }\n",
              "</style>\n",
              "<table border=\"1\" class=\"dataframe\">\n",
              "  <thead>\n",
              "    <tr style=\"text-align: right;\">\n",
              "      <th></th>\n",
              "      <th>Name</th>\n",
              "      <th>Roll</th>\n",
              "      <th>District</th>\n",
              "      <th>Upazila_Thana</th>\n",
              "      <th>Required Device Availability</th>\n",
              "      <th>Broadband Connection</th>\n",
              "      <th>Buy mobile data ability</th>\n",
              "      <th>Cellular Quality</th>\n",
              "      <th>Net Speed</th>\n",
              "      <th>Present</th>\n",
              "    </tr>\n",
              "  </thead>\n",
              "  <tbody>\n",
              "    <tr>\n",
              "      <th>0</th>\n",
              "      <td>Pantho Haque</td>\n",
              "      <td>1907075</td>\n",
              "      <td>Gazipur</td>\n",
              "      <td>Gazipur sadar</td>\n",
              "      <td>No</td>\n",
              "      <td>No</td>\n",
              "      <td>No</td>\n",
              "      <td>2G</td>\n",
              "      <td>&lt; 1 Mbps</td>\n",
              "      <td>0</td>\n",
              "    </tr>\n",
              "    <tr>\n",
              "      <th>1</th>\n",
              "      <td>Towfiq  Ul Iqbal Tomal</td>\n",
              "      <td>1907098</td>\n",
              "      <td>Dhaka</td>\n",
              "      <td>Hazari Bagh</td>\n",
              "      <td>Yes</td>\n",
              "      <td>Yes</td>\n",
              "      <td>No</td>\n",
              "      <td>3G</td>\n",
              "      <td>&lt; 1 Mbps</td>\n",
              "      <td>0</td>\n",
              "    </tr>\n",
              "    <tr>\n",
              "      <th>2</th>\n",
              "      <td>Nushrat Tarmin Meem</td>\n",
              "      <td>1907083</td>\n",
              "      <td>Dhaka</td>\n",
              "      <td>Mirpur</td>\n",
              "      <td>Yes</td>\n",
              "      <td>Yes</td>\n",
              "      <td>Yes</td>\n",
              "      <td>4G</td>\n",
              "      <td>1 - 5 Mbps</td>\n",
              "      <td>1</td>\n",
              "    </tr>\n",
              "    <tr>\n",
              "      <th>3</th>\n",
              "      <td>Anisa Walida</td>\n",
              "      <td>1907087</td>\n",
              "      <td>Dhaka</td>\n",
              "      <td>Sher e Bangla Nagar</td>\n",
              "      <td>Yes</td>\n",
              "      <td>No</td>\n",
              "      <td>No</td>\n",
              "      <td>2G</td>\n",
              "      <td>1 - 5 Mbps</td>\n",
              "      <td>1</td>\n",
              "    </tr>\n",
              "    <tr>\n",
              "      <th>4</th>\n",
              "      <td>MD. SHAHRIYAR MUQSET</td>\n",
              "      <td>1907081</td>\n",
              "      <td>Chandpur</td>\n",
              "      <td>Faridgonj</td>\n",
              "      <td>No</td>\n",
              "      <td>No</td>\n",
              "      <td>No</td>\n",
              "      <td>3G</td>\n",
              "      <td>&lt; 1 Mbps</td>\n",
              "      <td>0</td>\n",
              "    </tr>\n",
              "  </tbody>\n",
              "</table>\n",
              "</div>"
            ],
            "text/plain": [
              "                      Name     Roll  ...   Net Speed Present\n",
              "0             Pantho Haque  1907075  ...    < 1 Mbps       0\n",
              "1  Towfiq  Ul Iqbal Tomal   1907098  ...    < 1 Mbps       0\n",
              "2      Nushrat Tarmin Meem  1907083  ...  1 - 5 Mbps       1\n",
              "3            Anisa Walida   1907087  ...  1 - 5 Mbps       1\n",
              "4     MD. SHAHRIYAR MUQSET  1907081  ...    < 1 Mbps       0\n",
              "\n",
              "[5 rows x 10 columns]"
            ]
          },
          "metadata": {
            "tags": []
          },
          "execution_count": 13
        }
      ]
    },
    {
      "cell_type": "code",
      "metadata": {
        "colab": {
          "base_uri": "https://localhost:8080/",
          "height": 354
        },
        "id": "Hqc2O6gHx0Wq",
        "outputId": "9454c0d9-5122-40a7-970a-39e0ed61b33f"
      },
      "source": [
        "bar_chart('Required Device Availability')"
      ],
      "execution_count": null,
      "outputs": [
        {
          "output_type": "display_data",
          "data": {
            "image/png": "[encoded data removed]",
            "text/plain": [
              "<Figure size 720x360 with 1 Axes>"
            ]
          },
          "metadata": {
            "tags": []
          }
        }
      ]
    },
    {
      "cell_type": "code",
      "metadata": {
        "colab": {
          "base_uri": "https://localhost:8080/",
          "height": 354
        },
        "id": "sFbyzDMZy2qp",
        "outputId": "6c01724a-4714-40d4-f14e-1af65eae0bd0"
      },
      "source": [
        "bar_chart('Broadband Connection')"
      ],
      "execution_count": null,
      "outputs": [
        {
          "output_type": "display_data",
          "data": {
            "image/png": "[encoded data removed]",
            "text/plain": [
              "<Figure size 720x360 with 1 Axes>"
            ]
          },
          "metadata": {
            "tags": []
          }
        }
      ]
    },
    {
      "cell_type": "code",
      "metadata": {
        "colab": {
          "base_uri": "https://localhost:8080/",
          "height": 354
        },
        "id": "oTFJVGUizGos",
        "outputId": "4424f3f9-7eae-445c-ea04-cd3bb29ea240"
      },
      "source": [
        "bar_chart('Buy mobile data ability')"
      ],
      "execution_count": null,
      "outputs": [
        {
          "output_type": "display_data",
          "data": {
            "image/png": "[encoded data removed]",
            "text/plain": [
              "<Figure size 720x360 with 1 Axes>"
            ]
          },
          "metadata": {
            "tags": []
          }
        }
      ]
    },
    {
      "cell_type": "code",
      "metadata": {
        "colab": {
          "base_uri": "https://localhost:8080/",
          "height": 354
        },
        "id": "qeWwsSWSzTXZ",
        "outputId": "7a6a4854-dc4b-4cbc-8d0b-0c37b4a6556c"
      },
      "source": [
        "bar_chart('Cellular Quality')"
      ],
      "execution_count": null,
      "outputs": [
        {
          "output_type": "display_data",
          "data": {
            "image/png": "[encoded data removed]",
            "text/plain": [
              "<Figure size 720x360 with 1 Axes>"
            ]
          },
          "metadata": {
            "tags": []
          }
        }
      ]
    },
    {
      "cell_type": "code",
      "metadata": {
        "colab": {
          "base_uri": "https://localhost:8080/",
          "height": 354
        },
        "id": "OxijC5muzb7S",
        "outputId": "9e8458cc-7aff-4959-85e0-8ef55c3eeeb9"
      },
      "source": [
        "bar_chart('Net Speed')"
      ],
      "execution_count": null,
      "outputs": [
        {
          "output_type": "display_data",
          "data": {
            "image/png": "[encoded data removed]",
            "text/plain": [
              "<Figure size 720x360 with 1 Axes>"
            ]
          },
          "metadata": {
            "tags": []
          }
        }
      ]
    },
    {
      "cell_type": "code",
      "metadata": {
        "colab": {
          "base_uri": "https://localhost:8080/",
          "height": 354
        },
        "id": "mUxbA85uzpzZ",
        "outputId": "07a13f32-a16e-4107-e6b8-0959f0ff40e3"
      },
      "source": [
        "bar_chart('District')"
      ],
      "execution_count": null,
      "outputs": [
        {
          "output_type": "display_data",
          "data": {
            "image/png": "[encoded data removed]",
            "text/plain": [
              "<Figure size 720x360 with 1 Axes>"
            ]
          },
          "metadata": {
            "tags": []
          }
        }
      ]
    },
    {
      "cell_type": "markdown",
      "metadata": {
        "id": "tuKosvuf0IXJ"
      },
      "source": [
        "# **Drop unnecessary Column such as Name**"
      ]
    },
    {
      "cell_type": "code",
      "metadata": {
        "id": "Az3Ch1VqbClO"
      },
      "source": [
        "classes.drop('Name', axis=1, inplace=True)"
      ],
      "execution_count": null,
      "outputs": []
    },
    {
      "cell_type": "code",
      "metadata": {
        "id": "c8ZYXgcsua9t"
      },
      "source": [
        "classes.drop('Roll', axis=1, inplace=True)"
      ],
      "execution_count": null,
      "outputs": []
    },
    {
      "cell_type": "code",
      "metadata": {
        "colab": {
          "base_uri": "https://localhost:8080/",
          "height": 204
        },
        "id": "OrCrP-gvuQsz",
        "outputId": "f5f9ea75-b29f-43ad-d108-6ae6e66602eb"
      },
      "source": [
        "classes.head()"
      ],
      "execution_count": null,
      "outputs": [
        {
          "output_type": "execute_result",
          "data": {
            "text/html": [
              "<div>\n",
              "<style scoped>\n",
              "    .dataframe tbody tr th:only-of-type {\n",
              "        vertical-align: middle;\n",
              "    }\n",
              "\n",
              "    .dataframe tbody tr th {\n",
              "        vertical-align: top;\n",
              "    }\n",
              "\n",
              "    .dataframe thead th {\n",
              "        text-align: right;\n",
              "    }\n",
              "</style>\n",
              "<table border=\"1\" class=\"dataframe\">\n",
              "  <thead>\n",
              "    <tr style=\"text-align: right;\">\n",
              "      <th></th>\n",
              "      <th>District</th>\n",
              "      <th>Upazila_Thana</th>\n",
              "      <th>Required Device Availability</th>\n",
              "      <th>Broadband Connection</th>\n",
              "      <th>Buy mobile data ability</th>\n",
              "      <th>Cellular Quality</th>\n",
              "      <th>Net Speed</th>\n",
              "      <th>Present</th>\n",
              "    </tr>\n",
              "  </thead>\n",
              "  <tbody>\n",
              "    <tr>\n",
              "      <th>0</th>\n",
              "      <td>Gazipur</td>\n",
              "      <td>Gazipur sadar</td>\n",
              "      <td>No</td>\n",
              "      <td>No</td>\n",
              "      <td>No</td>\n",
              "      <td>2G</td>\n",
              "      <td>&lt; 1 Mbps</td>\n",
              "      <td>0</td>\n",
              "    </tr>\n",
              "    <tr>\n",
              "      <th>1</th>\n",
              "      <td>Dhaka</td>\n",
              "      <td>Hazari Bagh</td>\n",
              "      <td>Yes</td>\n",
              "      <td>Yes</td>\n",
              "      <td>No</td>\n",
              "      <td>3G</td>\n",
              "      <td>&lt; 1 Mbps</td>\n",
              "      <td>0</td>\n",
              "    </tr>\n",
              "    <tr>\n",
              "      <th>2</th>\n",
              "      <td>Dhaka</td>\n",
              "      <td>Mirpur</td>\n",
              "      <td>Yes</td>\n",
              "      <td>Yes</td>\n",
              "      <td>Yes</td>\n",
              "      <td>4G</td>\n",
              "      <td>1 - 5 Mbps</td>\n",
              "      <td>1</td>\n",
              "    </tr>\n",
              "    <tr>\n",
              "      <th>3</th>\n",
              "      <td>Dhaka</td>\n",
              "      <td>Sher e Bangla Nagar</td>\n",
              "      <td>Yes</td>\n",
              "      <td>No</td>\n",
              "      <td>No</td>\n",
              "      <td>2G</td>\n",
              "      <td>1 - 5 Mbps</td>\n",
              "      <td>1</td>\n",
              "    </tr>\n",
              "    <tr>\n",
              "      <th>4</th>\n",
              "      <td>Chandpur</td>\n",
              "      <td>Faridgonj</td>\n",
              "      <td>No</td>\n",
              "      <td>No</td>\n",
              "      <td>No</td>\n",
              "      <td>3G</td>\n",
              "      <td>&lt; 1 Mbps</td>\n",
              "      <td>0</td>\n",
              "    </tr>\n",
              "  </tbody>\n",
              "</table>\n",
              "</div>"
            ],
            "text/plain": [
              "   District        Upazila_Thana  ...   Net Speed Present\n",
              "0   Gazipur        Gazipur sadar  ...    < 1 Mbps       0\n",
              "1     Dhaka         Hazari Bagh   ...    < 1 Mbps       0\n",
              "2     Dhaka               Mirpur  ...  1 - 5 Mbps       1\n",
              "3     Dhaka  Sher e Bangla Nagar  ...  1 - 5 Mbps       1\n",
              "4  Chandpur            Faridgonj  ...    < 1 Mbps       0\n",
              "\n",
              "[5 rows x 8 columns]"
            ]
          },
          "metadata": {
            "tags": []
          },
          "execution_count": 22
        }
      ]
    },
    {
      "cell_type": "markdown",
      "metadata": {
        "id": "4bgmQv1tuzJi"
      },
      "source": [
        "# **Mapping Required Device Availability Attribute**"
      ]
    },
    {
      "cell_type": "code",
      "metadata": {
        "id": "XY701SeMyDu5"
      },
      "source": [
        "classes_test_data = [classes]\n",
        "rda_mapping = {\"No\": 0, \"Yes\": 1}\n",
        "for dataset in classes_test_data:\n",
        "    dataset['Required Device Availability'] = dataset['Required Device Availability'].map(rda_mapping)"
      ],
      "execution_count": null,
      "outputs": []
    },
    {
      "cell_type": "code",
      "metadata": {
        "colab": {
          "base_uri": "https://localhost:8080/",
          "height": 204
        },
        "id": "Au-MBrWEyL06",
        "outputId": "fbda61e9-e60d-4e4b-f00b-eb6186717134"
      },
      "source": [
        "classes.head()"
      ],
      "execution_count": null,
      "outputs": [
        {
          "output_type": "execute_result",
          "data": {
            "text/html": [
              "<div>\n",
              "<style scoped>\n",
              "    .dataframe tbody tr th:only-of-type {\n",
              "        vertical-align: middle;\n",
              "    }\n",
              "\n",
              "    .dataframe tbody tr th {\n",
              "        vertical-align: top;\n",
              "    }\n",
              "\n",
              "    .dataframe thead th {\n",
              "        text-align: right;\n",
              "    }\n",
              "</style>\n",
              "<table border=\"1\" class=\"dataframe\">\n",
              "  <thead>\n",
              "    <tr style=\"text-align: right;\">\n",
              "      <th></th>\n",
              "      <th>District</th>\n",
              "      <th>Upazila_Thana</th>\n",
              "      <th>Required Device Availability</th>\n",
              "      <th>Broadband Connection</th>\n",
              "      <th>Buy mobile data ability</th>\n",
              "      <th>Cellular Quality</th>\n",
              "      <th>Net Speed</th>\n",
              "      <th>Present</th>\n",
              "    </tr>\n",
              "  </thead>\n",
              "  <tbody>\n",
              "    <tr>\n",
              "      <th>0</th>\n",
              "      <td>Gazipur</td>\n",
              "      <td>Gazipur sadar</td>\n",
              "      <td>0</td>\n",
              "      <td>No</td>\n",
              "      <td>No</td>\n",
              "      <td>2G</td>\n",
              "      <td>&lt; 1 Mbps</td>\n",
              "      <td>0</td>\n",
              "    </tr>\n",
              "    <tr>\n",
              "      <th>1</th>\n",
              "      <td>Dhaka</td>\n",
              "      <td>Hazari Bagh</td>\n",
              "      <td>1</td>\n",
              "      <td>Yes</td>\n",
              "      <td>No</td>\n",
              "      <td>3G</td>\n",
              "      <td>&lt; 1 Mbps</td>\n",
              "      <td>0</td>\n",
              "    </tr>\n",
              "    <tr>\n",
              "      <th>2</th>\n",
              "      <td>Dhaka</td>\n",
              "      <td>Mirpur</td>\n",
              "      <td>1</td>\n",
              "      <td>Yes</td>\n",
              "      <td>Yes</td>\n",
              "      <td>4G</td>\n",
              "      <td>1 - 5 Mbps</td>\n",
              "      <td>1</td>\n",
              "    </tr>\n",
              "    <tr>\n",
              "      <th>3</th>\n",
              "      <td>Dhaka</td>\n",
              "      <td>Sher e Bangla Nagar</td>\n",
              "      <td>1</td>\n",
              "      <td>No</td>\n",
              "      <td>No</td>\n",
              "      <td>2G</td>\n",
              "      <td>1 - 5 Mbps</td>\n",
              "      <td>1</td>\n",
              "    </tr>\n",
              "    <tr>\n",
              "      <th>4</th>\n",
              "      <td>Chandpur</td>\n",
              "      <td>Faridgonj</td>\n",
              "      <td>0</td>\n",
              "      <td>No</td>\n",
              "      <td>No</td>\n",
              "      <td>3G</td>\n",
              "      <td>&lt; 1 Mbps</td>\n",
              "      <td>0</td>\n",
              "    </tr>\n",
              "  </tbody>\n",
              "</table>\n",
              "</div>"
            ],
            "text/plain": [
              "   District        Upazila_Thana  ...   Net Speed Present\n",
              "0   Gazipur        Gazipur sadar  ...    < 1 Mbps       0\n",
              "1     Dhaka         Hazari Bagh   ...    < 1 Mbps       0\n",
              "2     Dhaka               Mirpur  ...  1 - 5 Mbps       1\n",
              "3     Dhaka  Sher e Bangla Nagar  ...  1 - 5 Mbps       1\n",
              "4  Chandpur            Faridgonj  ...    < 1 Mbps       0\n",
              "\n",
              "[5 rows x 8 columns]"
            ]
          },
          "metadata": {
            "tags": []
          },
          "execution_count": 24
        }
      ]
    },
    {
      "cell_type": "markdown",
      "metadata": {
        "id": "xnGNuktYxKeI"
      },
      "source": [
        "# **Mapping Broadband Connection Attribute**"
      ]
    },
    {
      "cell_type": "code",
      "metadata": {
        "id": "L12bld32yjyR"
      },
      "source": [
        "classes_test_data = [classes]\n",
        "bc_mapping = {\"No\": 0, \"Yes\": 1}\n",
        "for dataset in classes_test_data:\n",
        "    dataset['Broadband Connection'] = dataset['Broadband Connection'].map(bc_mapping)"
      ],
      "execution_count": null,
      "outputs": []
    },
    {
      "cell_type": "code",
      "metadata": {
        "colab": {
          "base_uri": "https://localhost:8080/",
          "height": 204
        },
        "id": "iAQ6Z33Nzb4y",
        "outputId": "a280d9ef-c8d1-45fb-f4ff-42e9253074e6"
      },
      "source": [
        "classes.head()"
      ],
      "execution_count": null,
      "outputs": [
        {
          "output_type": "execute_result",
          "data": {
            "text/html": [
              "<div>\n",
              "<style scoped>\n",
              "    .dataframe tbody tr th:only-of-type {\n",
              "        vertical-align: middle;\n",
              "    }\n",
              "\n",
              "    .dataframe tbody tr th {\n",
              "        vertical-align: top;\n",
              "    }\n",
              "\n",
              "    .dataframe thead th {\n",
              "        text-align: right;\n",
              "    }\n",
              "</style>\n",
              "<table border=\"1\" class=\"dataframe\">\n",
              "  <thead>\n",
              "    <tr style=\"text-align: right;\">\n",
              "      <th></th>\n",
              "      <th>District</th>\n",
              "      <th>Upazila_Thana</th>\n",
              "      <th>Required Device Availability</th>\n",
              "      <th>Broadband Connection</th>\n",
              "      <th>Buy mobile data ability</th>\n",
              "      <th>Cellular Quality</th>\n",
              "      <th>Net Speed</th>\n",
              "      <th>Present</th>\n",
              "    </tr>\n",
              "  </thead>\n",
              "  <tbody>\n",
              "    <tr>\n",
              "      <th>0</th>\n",
              "      <td>Gazipur</td>\n",
              "      <td>Gazipur sadar</td>\n",
              "      <td>0</td>\n",
              "      <td>0</td>\n",
              "      <td>No</td>\n",
              "      <td>2G</td>\n",
              "      <td>&lt; 1 Mbps</td>\n",
              "      <td>0</td>\n",
              "    </tr>\n",
              "    <tr>\n",
              "      <th>1</th>\n",
              "      <td>Dhaka</td>\n",
              "      <td>Hazari Bagh</td>\n",
              "      <td>1</td>\n",
              "      <td>1</td>\n",
              "      <td>No</td>\n",
              "      <td>3G</td>\n",
              "      <td>&lt; 1 Mbps</td>\n",
              "      <td>0</td>\n",
              "    </tr>\n",
              "    <tr>\n",
              "      <th>2</th>\n",
              "      <td>Dhaka</td>\n",
              "      <td>Mirpur</td>\n",
              "      <td>1</td>\n",
              "      <td>1</td>\n",
              "      <td>Yes</td>\n",
              "      <td>4G</td>\n",
              "      <td>1 - 5 Mbps</td>\n",
              "      <td>1</td>\n",
              "    </tr>\n",
              "    <tr>\n",
              "      <th>3</th>\n",
              "      <td>Dhaka</td>\n",
              "      <td>Sher e Bangla Nagar</td>\n",
              "      <td>1</td>\n",
              "      <td>0</td>\n",
              "      <td>No</td>\n",
              "      <td>2G</td>\n",
              "      <td>1 - 5 Mbps</td>\n",
              "      <td>1</td>\n",
              "    </tr>\n",
              "    <tr>\n",
              "      <th>4</th>\n",
              "      <td>Chandpur</td>\n",
              "      <td>Faridgonj</td>\n",
              "      <td>0</td>\n",
              "      <td>0</td>\n",
              "      <td>No</td>\n",
              "      <td>3G</td>\n",
              "      <td>&lt; 1 Mbps</td>\n",
              "      <td>0</td>\n",
              "    </tr>\n",
              "  </tbody>\n",
              "</table>\n",
              "</div>"
            ],
            "text/plain": [
              "   District        Upazila_Thana  ...   Net Speed  Present\n",
              "0   Gazipur        Gazipur sadar  ...    < 1 Mbps        0\n",
              "1     Dhaka         Hazari Bagh   ...    < 1 Mbps        0\n",
              "2     Dhaka               Mirpur  ...  1 - 5 Mbps        1\n",
              "3     Dhaka  Sher e Bangla Nagar  ...  1 - 5 Mbps        1\n",
              "4  Chandpur            Faridgonj  ...    < 1 Mbps        0\n",
              "\n",
              "[5 rows x 8 columns]"
            ]
          },
          "metadata": {
            "tags": []
          },
          "execution_count": 26
        }
      ]
    },
    {
      "cell_type": "markdown",
      "metadata": {
        "id": "2hzBST0gzh76"
      },
      "source": [
        "# **Mapping Buy mobile data ability Attribute**"
      ]
    },
    {
      "cell_type": "code",
      "metadata": {
        "id": "sL75o1lSzodo"
      },
      "source": [
        "classes_test_data = [classes]\n",
        "bmda_mapping = {\"No\": 0, \"Yes\": 1}\n",
        "for dataset in classes_test_data:\n",
        "    dataset['Buy mobile data ability'] = dataset['Buy mobile data ability'].map(bmda_mapping)"
      ],
      "execution_count": null,
      "outputs": []
    },
    {
      "cell_type": "code",
      "metadata": {
        "colab": {
          "base_uri": "https://localhost:8080/",
          "height": 204
        },
        "id": "4fCdQuUnz27j",
        "outputId": "d414c49e-3775-4b30-b446-c102582a08d4"
      },
      "source": [
        "classes.head()"
      ],
      "execution_count": null,
      "outputs": [
        {
          "output_type": "execute_result",
          "data": {
            "text/html": [
              "<div>\n",
              "<style scoped>\n",
              "    .dataframe tbody tr th:only-of-type {\n",
              "        vertical-align: middle;\n",
              "    }\n",
              "\n",
              "    .dataframe tbody tr th {\n",
              "        vertical-align: top;\n",
              "    }\n",
              "\n",
              "    .dataframe thead th {\n",
              "        text-align: right;\n",
              "    }\n",
              "</style>\n",
              "<table border=\"1\" class=\"dataframe\">\n",
              "  <thead>\n",
              "    <tr style=\"text-align: right;\">\n",
              "      <th></th>\n",
              "      <th>District</th>\n",
              "      <th>Upazila_Thana</th>\n",
              "      <th>Required Device Availability</th>\n",
              "      <th>Broadband Connection</th>\n",
              "      <th>Buy mobile data ability</th>\n",
              "      <th>Cellular Quality</th>\n",
              "      <th>Net Speed</th>\n",
              "      <th>Present</th>\n",
              "    </tr>\n",
              "  </thead>\n",
              "  <tbody>\n",
              "    <tr>\n",
              "      <th>0</th>\n",
              "      <td>Gazipur</td>\n",
              "      <td>Gazipur sadar</td>\n",
              "      <td>0</td>\n",
              "      <td>0</td>\n",
              "      <td>0</td>\n",
              "      <td>2G</td>\n",
              "      <td>&lt; 1 Mbps</td>\n",
              "      <td>0</td>\n",
              "    </tr>\n",
              "    <tr>\n",
              "      <th>1</th>\n",
              "      <td>Dhaka</td>\n",
              "      <td>Hazari Bagh</td>\n",
              "      <td>1</td>\n",
              "      <td>1</td>\n",
              "      <td>0</td>\n",
              "      <td>3G</td>\n",
              "      <td>&lt; 1 Mbps</td>\n",
              "      <td>0</td>\n",
              "    </tr>\n",
              "    <tr>\n",
              "      <th>2</th>\n",
              "      <td>Dhaka</td>\n",
              "      <td>Mirpur</td>\n",
              "      <td>1</td>\n",
              "      <td>1</td>\n",
              "      <td>1</td>\n",
              "      <td>4G</td>\n",
              "      <td>1 - 5 Mbps</td>\n",
              "      <td>1</td>\n",
              "    </tr>\n",
              "    <tr>\n",
              "      <th>3</th>\n",
              "      <td>Dhaka</td>\n",
              "      <td>Sher e Bangla Nagar</td>\n",
              "      <td>1</td>\n",
              "      <td>0</td>\n",
              "      <td>0</td>\n",
              "      <td>2G</td>\n",
              "      <td>1 - 5 Mbps</td>\n",
              "      <td>1</td>\n",
              "    </tr>\n",
              "    <tr>\n",
              "      <th>4</th>\n",
              "      <td>Chandpur</td>\n",
              "      <td>Faridgonj</td>\n",
              "      <td>0</td>\n",
              "      <td>0</td>\n",
              "      <td>0</td>\n",
              "      <td>3G</td>\n",
              "      <td>&lt; 1 Mbps</td>\n",
              "      <td>0</td>\n",
              "    </tr>\n",
              "  </tbody>\n",
              "</table>\n",
              "</div>"
            ],
            "text/plain": [
              "   District        Upazila_Thana  ...   Net Speed  Present\n",
              "0   Gazipur        Gazipur sadar  ...    < 1 Mbps        0\n",
              "1     Dhaka         Hazari Bagh   ...    < 1 Mbps        0\n",
              "2     Dhaka               Mirpur  ...  1 - 5 Mbps        1\n",
              "3     Dhaka  Sher e Bangla Nagar  ...  1 - 5 Mbps        1\n",
              "4  Chandpur            Faridgonj  ...    < 1 Mbps        0\n",
              "\n",
              "[5 rows x 8 columns]"
            ]
          },
          "metadata": {
            "tags": []
          },
          "execution_count": 28
        }
      ]
    },
    {
      "cell_type": "markdown",
      "metadata": {
        "id": "1aes6zkm0C75"
      },
      "source": [
        "# **Mapping Cellular Quality Attribute**"
      ]
    },
    {
      "cell_type": "code",
      "metadata": {
        "id": "nngSSMEA0JYB"
      },
      "source": [
        "classes_test_data = [classes]\n",
        "cq_mapping = {\"2G\": 2, \"3G\": 3, \"4G\": 4}\n",
        "for dataset in classes_test_data:\n",
        "    dataset['Cellular Quality'] = dataset['Cellular Quality'].map(cq_mapping)"
      ],
      "execution_count": null,
      "outputs": []
    },
    {
      "cell_type": "code",
      "metadata": {
        "colab": {
          "base_uri": "https://localhost:8080/",
          "height": 204
        },
        "id": "bLaEI8gs0fey",
        "outputId": "80cf0977-58ad-4b9a-81e1-645a0b4d92c7"
      },
      "source": [
        "classes.head()"
      ],
      "execution_count": null,
      "outputs": [
        {
          "output_type": "execute_result",
          "data": {
            "text/html": [
              "<div>\n",
              "<style scoped>\n",
              "    .dataframe tbody tr th:only-of-type {\n",
              "        vertical-align: middle;\n",
              "    }\n",
              "\n",
              "    .dataframe tbody tr th {\n",
              "        vertical-align: top;\n",
              "    }\n",
              "\n",
              "    .dataframe thead th {\n",
              "        text-align: right;\n",
              "    }\n",
              "</style>\n",
              "<table border=\"1\" class=\"dataframe\">\n",
              "  <thead>\n",
              "    <tr style=\"text-align: right;\">\n",
              "      <th></th>\n",
              "      <th>District</th>\n",
              "      <th>Upazila_Thana</th>\n",
              "      <th>Required Device Availability</th>\n",
              "      <th>Broadband Connection</th>\n",
              "      <th>Buy mobile data ability</th>\n",
              "      <th>Cellular Quality</th>\n",
              "      <th>Net Speed</th>\n",
              "      <th>Present</th>\n",
              "    </tr>\n",
              "  </thead>\n",
              "  <tbody>\n",
              "    <tr>\n",
              "      <th>0</th>\n",
              "      <td>Gazipur</td>\n",
              "      <td>Gazipur sadar</td>\n",
              "      <td>0</td>\n",
              "      <td>0</td>\n",
              "      <td>0</td>\n",
              "      <td>2</td>\n",
              "      <td>&lt; 1 Mbps</td>\n",
              "      <td>0</td>\n",
              "    </tr>\n",
              "    <tr>\n",
              "      <th>1</th>\n",
              "      <td>Dhaka</td>\n",
              "      <td>Hazari Bagh</td>\n",
              "      <td>1</td>\n",
              "      <td>1</td>\n",
              "      <td>0</td>\n",
              "      <td>3</td>\n",
              "      <td>&lt; 1 Mbps</td>\n",
              "      <td>0</td>\n",
              "    </tr>\n",
              "    <tr>\n",
              "      <th>2</th>\n",
              "      <td>Dhaka</td>\n",
              "      <td>Mirpur</td>\n",
              "      <td>1</td>\n",
              "      <td>1</td>\n",
              "      <td>1</td>\n",
              "      <td>4</td>\n",
              "      <td>1 - 5 Mbps</td>\n",
              "      <td>1</td>\n",
              "    </tr>\n",
              "    <tr>\n",
              "      <th>3</th>\n",
              "      <td>Dhaka</td>\n",
              "      <td>Sher e Bangla Nagar</td>\n",
              "      <td>1</td>\n",
              "      <td>0</td>\n",
              "      <td>0</td>\n",
              "      <td>2</td>\n",
              "      <td>1 - 5 Mbps</td>\n",
              "      <td>1</td>\n",
              "    </tr>\n",
              "    <tr>\n",
              "      <th>4</th>\n",
              "      <td>Chandpur</td>\n",
              "      <td>Faridgonj</td>\n",
              "      <td>0</td>\n",
              "      <td>0</td>\n",
              "      <td>0</td>\n",
              "      <td>3</td>\n",
              "      <td>&lt; 1 Mbps</td>\n",
              "      <td>0</td>\n",
              "    </tr>\n",
              "  </tbody>\n",
              "</table>\n",
              "</div>"
            ],
            "text/plain": [
              "   District        Upazila_Thana  ...   Net Speed  Present\n",
              "0   Gazipur        Gazipur sadar  ...    < 1 Mbps        0\n",
              "1     Dhaka         Hazari Bagh   ...    < 1 Mbps        0\n",
              "2     Dhaka               Mirpur  ...  1 - 5 Mbps        1\n",
              "3     Dhaka  Sher e Bangla Nagar  ...  1 - 5 Mbps        1\n",
              "4  Chandpur            Faridgonj  ...    < 1 Mbps        0\n",
              "\n",
              "[5 rows x 8 columns]"
            ]
          },
          "metadata": {
            "tags": []
          },
          "execution_count": 30
        }
      ]
    },
    {
      "cell_type": "markdown",
      "metadata": {
        "id": "DZUw59fn1Oyv"
      },
      "source": [
        "# **Mapping Net Speed Attribute**"
      ]
    },
    {
      "cell_type": "code",
      "metadata": {
        "id": "e7vtN9pZ1WLv"
      },
      "source": [
        "classes_test_data = [classes]\n",
        "ns_mapping = {\"< 1 Mbps\": 0, \"1 - 5 Mbps\": 1, \"> 5 Mbps\": 6}\n",
        "for dataset in classes_test_data:\n",
        "    dataset['Net Speed'] = dataset['Net Speed'].map(ns_mapping)"
      ],
      "execution_count": null,
      "outputs": []
    },
    {
      "cell_type": "code",
      "metadata": {
        "colab": {
          "base_uri": "https://localhost:8080/",
          "height": 204
        },
        "id": "qzB3sWih2BOJ",
        "outputId": "917eb328-dc4d-457e-9c53-a9e46edeb297"
      },
      "source": [
        "classes.head()"
      ],
      "execution_count": null,
      "outputs": [
        {
          "output_type": "execute_result",
          "data": {
            "text/html": [
              "<div>\n",
              "<style scoped>\n",
              "    .dataframe tbody tr th:only-of-type {\n",
              "        vertical-align: middle;\n",
              "    }\n",
              "\n",
              "    .dataframe tbody tr th {\n",
              "        vertical-align: top;\n",
              "    }\n",
              "\n",
              "    .dataframe thead th {\n",
              "        text-align: right;\n",
              "    }\n",
              "</style>\n",
              "<table border=\"1\" class=\"dataframe\">\n",
              "  <thead>\n",
              "    <tr style=\"text-align: right;\">\n",
              "      <th></th>\n",
              "      <th>District</th>\n",
              "      <th>Upazila_Thana</th>\n",
              "      <th>Required Device Availability</th>\n",
              "      <th>Broadband Connection</th>\n",
              "      <th>Buy mobile data ability</th>\n",
              "      <th>Cellular Quality</th>\n",
              "      <th>Net Speed</th>\n",
              "      <th>Present</th>\n",
              "    </tr>\n",
              "  </thead>\n",
              "  <tbody>\n",
              "    <tr>\n",
              "      <th>0</th>\n",
              "      <td>Gazipur</td>\n",
              "      <td>Gazipur sadar</td>\n",
              "      <td>0</td>\n",
              "      <td>0</td>\n",
              "      <td>0</td>\n",
              "      <td>2</td>\n",
              "      <td>0</td>\n",
              "      <td>0</td>\n",
              "    </tr>\n",
              "    <tr>\n",
              "      <th>1</th>\n",
              "      <td>Dhaka</td>\n",
              "      <td>Hazari Bagh</td>\n",
              "      <td>1</td>\n",
              "      <td>1</td>\n",
              "      <td>0</td>\n",
              "      <td>3</td>\n",
              "      <td>0</td>\n",
              "      <td>0</td>\n",
              "    </tr>\n",
              "    <tr>\n",
              "      <th>2</th>\n",
              "      <td>Dhaka</td>\n",
              "      <td>Mirpur</td>\n",
              "      <td>1</td>\n",
              "      <td>1</td>\n",
              "      <td>1</td>\n",
              "      <td>4</td>\n",
              "      <td>1</td>\n",
              "      <td>1</td>\n",
              "    </tr>\n",
              "    <tr>\n",
              "      <th>3</th>\n",
              "      <td>Dhaka</td>\n",
              "      <td>Sher e Bangla Nagar</td>\n",
              "      <td>1</td>\n",
              "      <td>0</td>\n",
              "      <td>0</td>\n",
              "      <td>2</td>\n",
              "      <td>1</td>\n",
              "      <td>1</td>\n",
              "    </tr>\n",
              "    <tr>\n",
              "      <th>4</th>\n",
              "      <td>Chandpur</td>\n",
              "      <td>Faridgonj</td>\n",
              "      <td>0</td>\n",
              "      <td>0</td>\n",
              "      <td>0</td>\n",
              "      <td>3</td>\n",
              "      <td>0</td>\n",
              "      <td>0</td>\n",
              "    </tr>\n",
              "  </tbody>\n",
              "</table>\n",
              "</div>"
            ],
            "text/plain": [
              "   District        Upazila_Thana  ...  Net Speed  Present\n",
              "0   Gazipur        Gazipur sadar  ...          0        0\n",
              "1     Dhaka         Hazari Bagh   ...          0        0\n",
              "2     Dhaka               Mirpur  ...          1        1\n",
              "3     Dhaka  Sher e Bangla Nagar  ...          1        1\n",
              "4  Chandpur            Faridgonj  ...          0        0\n",
              "\n",
              "[5 rows x 8 columns]"
            ]
          },
          "metadata": {
            "tags": []
          },
          "execution_count": 32
        }
      ]
    },
    {
      "cell_type": "code",
      "metadata": {
        "colab": {
          "base_uri": "https://localhost:8080/",
          "height": 221
        },
        "id": "5G7iAO3223co",
        "outputId": "32d6cd6f-4f64-4c6a-ef83-a9378684c97a"
      },
      "source": [
        "facet = sns.FacetGrid(classes, hue=\"Present\",aspect=4)\n",
        "facet.map(sns.kdeplot,'Net Speed',shade= True)\n",
        "facet.set(xlim=(0, classes['Net Speed'].max()))\n",
        "facet.add_legend()\n",
        "plt.show()"
      ],
      "execution_count": null,
      "outputs": [
        {
          "output_type": "display_data",
          "data": {
            "image/png": "[encoded data removed]",
            "text/plain": [
              "<Figure size 917.925x216 with 1 Axes>"
            ]
          },
          "metadata": {
            "tags": []
          }
        }
      ]
    },
    {
      "cell_type": "markdown",
      "metadata": {
        "id": "k1OCXDbt318Q"
      },
      "source": [
        "# **Mapping Net Speed Attribute**"
      ]
    },
    {
      "cell_type": "code",
      "metadata": {
        "id": "uPewmXtp36bn"
      },
      "source": [
        "classes_test_data = [classes]\n",
        "d_mapping = {\"Dhaka\": 1, \"Kushtia\": 2,\"Joypurhat\": 3, \"Khulna\": 4, \"Cumilla\": 5, \"Lalmonirhat\": 6, \"Gazipur\": 7, \"Chandpur\": 8}\n",
        "for dataset in classes_test_data:\n",
        "    dataset['District'] = dataset['District'].map(d_mapping)"
      ],
      "execution_count": null,
      "outputs": []
    },
    {
      "cell_type": "markdown",
      "metadata": {
        "id": "ZboNGf8G4E5w"
      },
      "source": [
        "Dhaka = 1\n",
        "\n",
        "Kushtia =2\n",
        "\n",
        "Joypurhat = 3\n",
        "\n",
        "Khulna = 4\n",
        "\n",
        "Cumilla = 5\n",
        "\n",
        "Lalmonirhat = 6\n",
        "\n",
        "Gazipur = 7\n",
        "\n",
        "Chandpur = 8"
      ]
    },
    {
      "cell_type": "code",
      "metadata": {
        "colab": {
          "base_uri": "https://localhost:8080/",
          "height": 204
        },
        "id": "IovCE5AF6Whx",
        "outputId": "01ff9de4-91ec-482c-bc40-2189c6b55c23"
      },
      "source": [
        "classes.head()"
      ],
      "execution_count": null,
      "outputs": [
        {
          "output_type": "execute_result",
          "data": {
            "text/html": [
              "<div>\n",
              "<style scoped>\n",
              "    .dataframe tbody tr th:only-of-type {\n",
              "        vertical-align: middle;\n",
              "    }\n",
              "\n",
              "    .dataframe tbody tr th {\n",
              "        vertical-align: top;\n",
              "    }\n",
              "\n",
              "    .dataframe thead th {\n",
              "        text-align: right;\n",
              "    }\n",
              "</style>\n",
              "<table border=\"1\" class=\"dataframe\">\n",
              "  <thead>\n",
              "    <tr style=\"text-align: right;\">\n",
              "      <th></th>\n",
              "      <th>District</th>\n",
              "      <th>Upazila_Thana</th>\n",
              "      <th>Required Device Availability</th>\n",
              "      <th>Broadband Connection</th>\n",
              "      <th>Buy mobile data ability</th>\n",
              "      <th>Cellular Quality</th>\n",
              "      <th>Net Speed</th>\n",
              "      <th>Present</th>\n",
              "    </tr>\n",
              "  </thead>\n",
              "  <tbody>\n",
              "    <tr>\n",
              "      <th>0</th>\n",
              "      <td>7</td>\n",
              "      <td>Gazipur sadar</td>\n",
              "      <td>0</td>\n",
              "      <td>0</td>\n",
              "      <td>0</td>\n",
              "      <td>2</td>\n",
              "      <td>0</td>\n",
              "      <td>0</td>\n",
              "    </tr>\n",
              "    <tr>\n",
              "      <th>1</th>\n",
              "      <td>1</td>\n",
              "      <td>Hazari Bagh</td>\n",
              "      <td>1</td>\n",
              "      <td>1</td>\n",
              "      <td>0</td>\n",
              "      <td>3</td>\n",
              "      <td>0</td>\n",
              "      <td>0</td>\n",
              "    </tr>\n",
              "    <tr>\n",
              "      <th>2</th>\n",
              "      <td>1</td>\n",
              "      <td>Mirpur</td>\n",
              "      <td>1</td>\n",
              "      <td>1</td>\n",
              "      <td>1</td>\n",
              "      <td>4</td>\n",
              "      <td>1</td>\n",
              "      <td>1</td>\n",
              "    </tr>\n",
              "    <tr>\n",
              "      <th>3</th>\n",
              "      <td>1</td>\n",
              "      <td>Sher e Bangla Nagar</td>\n",
              "      <td>1</td>\n",
              "      <td>0</td>\n",
              "      <td>0</td>\n",
              "      <td>2</td>\n",
              "      <td>1</td>\n",
              "      <td>1</td>\n",
              "    </tr>\n",
              "    <tr>\n",
              "      <th>4</th>\n",
              "      <td>8</td>\n",
              "      <td>Faridgonj</td>\n",
              "      <td>0</td>\n",
              "      <td>0</td>\n",
              "      <td>0</td>\n",
              "      <td>3</td>\n",
              "      <td>0</td>\n",
              "      <td>0</td>\n",
              "    </tr>\n",
              "  </tbody>\n",
              "</table>\n",
              "</div>"
            ],
            "text/plain": [
              "   District        Upazila_Thana  ...  Net Speed  Present\n",
              "0         7        Gazipur sadar  ...          0        0\n",
              "1         1         Hazari Bagh   ...          0        0\n",
              "2         1               Mirpur  ...          1        1\n",
              "3         1  Sher e Bangla Nagar  ...          1        1\n",
              "4         8            Faridgonj  ...          0        0\n",
              "\n",
              "[5 rows x 8 columns]"
            ]
          },
          "metadata": {
            "tags": []
          },
          "execution_count": 35
        }
      ]
    },
    {
      "cell_type": "code",
      "metadata": {
        "colab": {
          "base_uri": "https://localhost:8080/",
          "height": 221
        },
        "id": "WTb2_Urg6Z3h",
        "outputId": "7f2c37d0-a7db-42ae-a9e9-dcc30a6de4a1"
      },
      "source": [
        "facet = sns.FacetGrid(classes, hue=\"Present\",aspect=4)\n",
        "facet.map(sns.kdeplot,'District',shade= True)\n",
        "facet.set(xlim=(0, classes['District'].max()))\n",
        "facet.add_legend()\n",
        "plt.show()"
      ],
      "execution_count": null,
      "outputs": [
        {
          "output_type": "display_data",
          "data": {
            "image/png": "[encoded data removed]",
            "text/plain": [
              "<Figure size 917.925x216 with 1 Axes>"
            ]
          },
          "metadata": {
            "tags": []
          }
        }
      ]
    },
    {
      "cell_type": "code",
      "metadata": {
        "id": "-NRXibBs7kGg"
      },
      "source": [
        "classes.drop('Upazila_Thana', axis=1, inplace=True)"
      ],
      "execution_count": null,
      "outputs": []
    },
    {
      "cell_type": "code",
      "metadata": {
        "colab": {
          "base_uri": "https://localhost:8080/",
          "height": 204
        },
        "id": "MuDOKU_37poo",
        "outputId": "9367b58f-c611-40b4-fe79-7a8760350457"
      },
      "source": [
        "classes.head()"
      ],
      "execution_count": null,
      "outputs": [
        {
          "output_type": "execute_result",
          "data": {
            "text/html": [
              "<div>\n",
              "<style scoped>\n",
              "    .dataframe tbody tr th:only-of-type {\n",
              "        vertical-align: middle;\n",
              "    }\n",
              "\n",
              "    .dataframe tbody tr th {\n",
              "        vertical-align: top;\n",
              "    }\n",
              "\n",
              "    .dataframe thead th {\n",
              "        text-align: right;\n",
              "    }\n",
              "</style>\n",
              "<table border=\"1\" class=\"dataframe\">\n",
              "  <thead>\n",
              "    <tr style=\"text-align: right;\">\n",
              "      <th></th>\n",
              "      <th>District</th>\n",
              "      <th>Required Device Availability</th>\n",
              "      <th>Broadband Connection</th>\n",
              "      <th>Buy mobile data ability</th>\n",
              "      <th>Cellular Quality</th>\n",
              "      <th>Net Speed</th>\n",
              "      <th>Present</th>\n",
              "    </tr>\n",
              "  </thead>\n",
              "  <tbody>\n",
              "    <tr>\n",
              "      <th>0</th>\n",
              "      <td>7</td>\n",
              "      <td>0</td>\n",
              "      <td>0</td>\n",
              "      <td>0</td>\n",
              "      <td>2</td>\n",
              "      <td>0</td>\n",
              "      <td>0</td>\n",
              "    </tr>\n",
              "    <tr>\n",
              "      <th>1</th>\n",
              "      <td>1</td>\n",
              "      <td>1</td>\n",
              "      <td>1</td>\n",
              "      <td>0</td>\n",
              "      <td>3</td>\n",
              "      <td>0</td>\n",
              "      <td>0</td>\n",
              "    </tr>\n",
              "    <tr>\n",
              "      <th>2</th>\n",
              "      <td>1</td>\n",
              "      <td>1</td>\n",
              "      <td>1</td>\n",
              "      <td>1</td>\n",
              "      <td>4</td>\n",
              "      <td>1</td>\n",
              "      <td>1</td>\n",
              "    </tr>\n",
              "    <tr>\n",
              "      <th>3</th>\n",
              "      <td>1</td>\n",
              "      <td>1</td>\n",
              "      <td>0</td>\n",
              "      <td>0</td>\n",
              "      <td>2</td>\n",
              "      <td>1</td>\n",
              "      <td>1</td>\n",
              "    </tr>\n",
              "    <tr>\n",
              "      <th>4</th>\n",
              "      <td>8</td>\n",
              "      <td>0</td>\n",
              "      <td>0</td>\n",
              "      <td>0</td>\n",
              "      <td>3</td>\n",
              "      <td>0</td>\n",
              "      <td>0</td>\n",
              "    </tr>\n",
              "  </tbody>\n",
              "</table>\n",
              "</div>"
            ],
            "text/plain": [
              "   District  Required Device Availability  ...  Net Speed  Present\n",
              "0         7                             0  ...          0        0\n",
              "1         1                             1  ...          0        0\n",
              "2         1                             1  ...          1        1\n",
              "3         1                             1  ...          1        1\n",
              "4         8                             0  ...          0        0\n",
              "\n",
              "[5 rows x 7 columns]"
            ]
          },
          "metadata": {
            "tags": []
          },
          "execution_count": 45
        }
      ]
    },
    {
      "cell_type": "markdown",
      "metadata": {
        "id": "k1sdWqkS8icA"
      },
      "source": [
        "# **Dividing the dataset**"
      ]
    },
    {
      "cell_type": "code",
      "metadata": {
        "colab": {
          "base_uri": "https://localhost:8080/"
        },
        "id": "oB9u8MAo8kXQ",
        "outputId": "c083530b-ac05-453b-85fe-985c3f141eb0"
      },
      "source": [
        "class_data = classes.drop('Present', axis=1)     \n",
        "target = classes['Present']\n",
        "\n",
        "class_data.shape, target.shape"
      ],
      "execution_count": null,
      "outputs": [
        {
          "output_type": "execute_result",
          "data": {
            "text/plain": [
              "((19, 6), (19,))"
            ]
          },
          "metadata": {
            "tags": []
          },
          "execution_count": 46
        }
      ]
    },
    {
      "cell_type": "markdown",
      "metadata": {
        "id": "EFYS5DUV9ZUQ"
      },
      "source": [
        "# **Splitting the dataset into class and test data**"
      ]
    },
    {
      "cell_type": "code",
      "metadata": {
        "colab": {
          "base_uri": "https://localhost:8080/"
        },
        "id": "RW2dO3K99b-W",
        "outputId": "9ef443d2-ded6-4726-8087-0b8521b224d4"
      },
      "source": [
        "# (X_CLASS->class_data, Y_CLASS->target), X_TEST, Y_TEST\n",
        "\n",
        "from sklearn.model_selection import train_test_split\n",
        "X_class, X_test, y_class, y_test = train_test_split(class_data, target, test_size=.30, random_state=42)\n",
        "print(\"X_class: \", X_class.shape)\n",
        "print(\"X_test: \", X_test.shape)\n",
        "print(\"y_class: \", y_class.shape)\n",
        "print(\"y_test: \", y_test.shape)\n",
        "print(y_test)\n",
        "\n",
        "y_test.value_counts()"
      ],
      "execution_count": null,
      "outputs": [
        {
          "output_type": "stream",
          "text": [
            "X_class:  (13, 6)\n",
            "X_test:  (6, 6)\n",
            "y_class:  (13,)\n",
            "y_test:  (6,)\n",
            "0     0\n",
            "5     1\n",
            "11    1\n",
            "1     0\n",
            "8     1\n",
            "16    1\n",
            "Name: Present, dtype: int64\n"
          ],
          "name": "stdout"
        },
        {
          "output_type": "execute_result",
          "data": {
            "text/plain": [
              "1    4\n",
              "0    2\n",
              "Name: Present, dtype: int64"
            ]
          },
          "metadata": {
            "tags": []
          },
          "execution_count": 47
        }
      ]
    },
    {
      "cell_type": "code",
      "metadata": {
        "colab": {
          "base_uri": "https://localhost:8080/"
        },
        "id": "LKQLCeSuB1t4",
        "outputId": "2796353b-d4cf-4695-e703-f6ec9b21feb9"
      },
      "source": [
        "#Start Confusion Matrix Evaluation\n",
        "\n",
        "from sklearn.model_selection import train_test_split\n",
        "X_train, X_test, y_train, y_test = train_test_split(class_data, target, test_size=.30, random_state=42)\n",
        "print(\"X_train: \", X_train.shape)\n",
        "print(\"X_test: \", X_test.shape)\n",
        "print(\"y_train: \", y_train.shape)\n",
        "print(\"y_test: \", y_test.shape)\n",
        "print(y_test)\n",
        "\n",
        "y_test.value_counts()"
      ],
      "execution_count": null,
      "outputs": [
        {
          "output_type": "stream",
          "text": [
            "X_train:  (13, 6)\n",
            "X_test:  (6, 6)\n",
            "y_train:  (13,)\n",
            "y_test:  (6,)\n",
            "0     0\n",
            "5     1\n",
            "11    1\n",
            "1     0\n",
            "8     1\n",
            "16    1\n",
            "Name: Present, dtype: int64\n"
          ],
          "name": "stdout"
        },
        {
          "output_type": "execute_result",
          "data": {
            "text/plain": [
              "1    4\n",
              "0    2\n",
              "Name: Present, dtype: int64"
            ]
          },
          "metadata": {
            "tags": []
          },
          "execution_count": 48
        }
      ]
    },
    {
      "cell_type": "markdown",
      "metadata": {
        "id": "S64kzRPoBXz-"
      },
      "source": [
        "# **Train the dataset**"
      ]
    },
    {
      "cell_type": "code",
      "metadata": {
        "id": "oS_i-uPvBVt3"
      },
      "source": [
        "# Importing Classifier Modules\n",
        "from sklearn.tree import DecisionTreeClassifier\n",
        "from sklearn.ensemble import RandomForestClassifier\n",
        "\n",
        "dt = DecisionTreeClassifier()\n",
        "dt.fit(X_train, y_train)\n",
        "y_pred = dt.predict(X_test)"
      ],
      "execution_count": null,
      "outputs": []
    },
    {
      "cell_type": "markdown",
      "metadata": {
        "id": "BmeBPu67FdE-"
      },
      "source": [
        "# **Performance evaluation**"
      ]
    },
    {
      "cell_type": "code",
      "metadata": {
        "colab": {
          "base_uri": "https://localhost:8080/"
        },
        "id": "YqjU0neyFeuO",
        "outputId": "da8d37c9-c50a-4f41-9bdb-73b2b43d7ce3"
      },
      "source": [
        "from sklearn.metrics import confusion_matrix,classification_report\n",
        "print(confusion_matrix(y_test, y_pred))\n",
        "print(classification_report(y_test,y_pred))"
      ],
      "execution_count": null,
      "outputs": [
        {
          "output_type": "stream",
          "text": [
            "[[1 1]\n",
            " [0 4]]\n",
            "              precision    recall  f1-score   support\n",
            "\n",
            "           0       1.00      0.50      0.67         2\n",
            "           1       0.80      1.00      0.89         4\n",
            "\n",
            "    accuracy                           0.83         6\n",
            "   macro avg       0.90      0.75      0.78         6\n",
            "weighted avg       0.87      0.83      0.81         6\n",
            "\n"
          ],
          "name": "stdout"
        }
      ]
    },
    {
      "cell_type": "markdown",
      "metadata": {
        "id": "Va59PUz1Fn6H"
      },
      "source": [
        "# **Calculating accuracy**"
      ]
    },
    {
      "cell_type": "code",
      "metadata": {
        "colab": {
          "base_uri": "https://localhost:8080/"
        },
        "id": "Cx667_0qFpyl",
        "outputId": "5c5a58da-56b9-48de-833c-4f4745ac24ab"
      },
      "source": [
        "from sklearn.metrics import accuracy_score\n",
        "print(accuracy_score(y_test, y_pred))\n"
      ],
      "execution_count": null,
      "outputs": [
        {
          "output_type": "stream",
          "text": [
            "0.8333333333333334\n"
          ],
          "name": "stdout"
        }
      ]
    }
  ]
}